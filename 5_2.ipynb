{
  "nbformat": 4,
  "nbformat_minor": 0,
  "metadata": {
    "colab": {
      "provenance": [],
      "authorship_tag": "ABX9TyPjOuDnX0OAmkdMB/+8yjB9",
      "include_colab_link": true
    },
    "kernelspec": {
      "name": "python3",
      "display_name": "Python 3"
    },
    "language_info": {
      "name": "python"
    }
  },
  "cells": [
    {
      "cell_type": "markdown",
      "metadata": {
        "id": "view-in-github",
        "colab_type": "text"
      },
      "source": [
        "<a href=\"https://colab.research.google.com/github/Charlotte607607/colab/blob/main/5_2.ipynb\" target=\"_parent\"><img src=\"https://colab.research.google.com/assets/colab-badge.svg\" alt=\"Open In Colab\"/></a>"
      ]
    },
    {
      "cell_type": "code",
      "source": [
        "sent = \"Today is a good day!\"\n",
        "\n",
        "\n",
        "sent_len = len(sent)\n",
        "print(sent_len)\n",
        "\n",
        "\n",
        "sent_upper = sent.upper()\n",
        "print(sent_upper)\n",
        "\n",
        "\n",
        "sent_lower = sent.lower()\n",
        "print(sent_lower)"
      ],
      "metadata": {
        "colab": {
          "base_uri": "https://localhost:8080/"
        },
        "id": "VnZEbTXJXbm1",
        "outputId": "531427d0-a364-4d23-d7d8-0ea4762af4fe"
      },
      "execution_count": null,
      "outputs": [
        {
          "output_type": "stream",
          "name": "stdout",
          "text": [
            "20\n",
            "TODAY IS A GOOD DAY!\n",
            "today is a good day!\n"
          ]
        }
      ]
    },
    {
      "cell_type": "code",
      "source": [
        "a=\"apple\"\n",
        "b=\"banana\"\n",
        "print(f\"The Subject of {a} is {b}. \")\n"
      ],
      "metadata": {
        "colab": {
          "base_uri": "https://localhost:8080/"
        },
        "id": "WFKcX0GGXrPr",
        "outputId": "c7f01b6a-ea46-48d3-ef90-a2ef5f117248"
      },
      "execution_count": null,
      "outputs": [
        {
          "output_type": "stream",
          "name": "stdout",
          "text": [
            "The Subject of apple is banana. \n"
          ]
        }
      ]
    },
    {
      "cell_type": "code",
      "source": [
        "def wordDetect(s):\n",
        "  if s == s.lower():\n",
        "    print(\"lower\")\n",
        "  elif s == s.upper():\n",
        "    print(\"upper\")\n",
        "  else:\n",
        "    print(\"mixed\")\n",
        "sent=\"Childrens are so cute.\"\n",
        "wordDetect(sent)"
      ],
      "metadata": {
        "colab": {
          "base_uri": "https://localhost:8080/"
        },
        "id": "NcceuzA6YscX",
        "outputId": "ef6b5ec8-1f8c-41e4-c677-40006b38bba0"
      },
      "execution_count": null,
      "outputs": [
        {
          "output_type": "stream",
          "name": "stdout",
          "text": [
            "mixed\n"
          ]
        }
      ]
    }
  ]
}